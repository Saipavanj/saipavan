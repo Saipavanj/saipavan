{
  "nbformat": 4,
  "nbformat_minor": 0,
  "metadata": {
    "colab": {
      "provenance": []
    },
    "kernelspec": {
      "name": "python3",
      "display_name": "Python 3"
    },
    "language_info": {
      "name": "python"
    }
  },
  "cells": [
    {
      "cell_type": "code",
      "execution_count": 2,
      "metadata": {
        "id": "QpbWiObDmA2k"
      },
      "outputs": [],
      "source": [
        "import pandas as pd\n",
        "import numpy as np\n",
        "import matplotlib.pyplot as plt\n",
        "import seaborn as sns"
      ]
    },
    {
      "cell_type": "code",
      "source": [
        "data=pd.read_excel(\"/content/jiffs_house_price_my_dataset_v1.xlsx\")"
      ],
      "metadata": {
        "id": "duPv4S6fmRBT"
      },
      "execution_count": 4,
      "outputs": []
    },
    {
      "cell_type": "code",
      "source": [
        "data.head()"
      ],
      "metadata": {
        "id": "UiBiU4uumkUr",
        "colab": {
          "base_uri": "https://localhost:8080/",
          "height": 270
        },
        "outputId": "8accb61a-fcad-4f10-8baa-e25023ffb987"
      },
      "execution_count": 5,
      "outputs": [
        {
          "output_type": "execute_result",
          "data": {
            "text/plain": [
              "   land_size_sqm  house_size_sqm  no_of_rooms  no_of_bathrooms  \\\n",
              "0            201           177.0            3                1   \n",
              "1            196           182.0            4                3   \n",
              "2            198           182.0            4                4   \n",
              "3            178           166.0            2                3   \n",
              "4            183           165.0            3                1   \n",
              "\n",
              "   large_living_room  parking_space  front_garden  swimming_pool  \\\n",
              "0                0.0              1             1              0   \n",
              "1                1.0              1             0              1   \n",
              "2                1.0              1             0              1   \n",
              "3                0.0              1             0              0   \n",
              "4                1.0              1             0              0   \n",
              "\n",
              "   distance_to_school_km  wall_fence  house_age_or_renovated  water_front  \\\n",
              "0                    3.3           1                      10            0   \n",
              "1                    1.2           1                      11            0   \n",
              "2                    5.9           0                      20            0   \n",
              "3                    5.9           0                       5            0   \n",
              "4                    3.8           1                       8            0   \n",
              "\n",
              "   distance_to_supermarket_km  property_value  \n",
              "0                         6.8          167611  \n",
              "1                         4.1          186945  \n",
              "2                         2.1          154628  \n",
              "3                         0.7          133099  \n",
              "4                         0.7          158481  "
            ],
            "text/html": [
              "\n",
              "  <div id=\"df-917b7261-594f-4076-9bb3-10c90f137e2c\">\n",
              "    <div class=\"colab-df-container\">\n",
              "      <div>\n",
              "<style scoped>\n",
              "    .dataframe tbody tr th:only-of-type {\n",
              "        vertical-align: middle;\n",
              "    }\n",
              "\n",
              "    .dataframe tbody tr th {\n",
              "        vertical-align: top;\n",
              "    }\n",
              "\n",
              "    .dataframe thead th {\n",
              "        text-align: right;\n",
              "    }\n",
              "</style>\n",
              "<table border=\"1\" class=\"dataframe\">\n",
              "  <thead>\n",
              "    <tr style=\"text-align: right;\">\n",
              "      <th></th>\n",
              "      <th>land_size_sqm</th>\n",
              "      <th>house_size_sqm</th>\n",
              "      <th>no_of_rooms</th>\n",
              "      <th>no_of_bathrooms</th>\n",
              "      <th>large_living_room</th>\n",
              "      <th>parking_space</th>\n",
              "      <th>front_garden</th>\n",
              "      <th>swimming_pool</th>\n",
              "      <th>distance_to_school_km</th>\n",
              "      <th>wall_fence</th>\n",
              "      <th>house_age_or_renovated</th>\n",
              "      <th>water_front</th>\n",
              "      <th>distance_to_supermarket_km</th>\n",
              "      <th>property_value</th>\n",
              "    </tr>\n",
              "  </thead>\n",
              "  <tbody>\n",
              "    <tr>\n",
              "      <th>0</th>\n",
              "      <td>201</td>\n",
              "      <td>177.0</td>\n",
              "      <td>3</td>\n",
              "      <td>1</td>\n",
              "      <td>0.0</td>\n",
              "      <td>1</td>\n",
              "      <td>1</td>\n",
              "      <td>0</td>\n",
              "      <td>3.3</td>\n",
              "      <td>1</td>\n",
              "      <td>10</td>\n",
              "      <td>0</td>\n",
              "      <td>6.8</td>\n",
              "      <td>167611</td>\n",
              "    </tr>\n",
              "    <tr>\n",
              "      <th>1</th>\n",
              "      <td>196</td>\n",
              "      <td>182.0</td>\n",
              "      <td>4</td>\n",
              "      <td>3</td>\n",
              "      <td>1.0</td>\n",
              "      <td>1</td>\n",
              "      <td>0</td>\n",
              "      <td>1</td>\n",
              "      <td>1.2</td>\n",
              "      <td>1</td>\n",
              "      <td>11</td>\n",
              "      <td>0</td>\n",
              "      <td>4.1</td>\n",
              "      <td>186945</td>\n",
              "    </tr>\n",
              "    <tr>\n",
              "      <th>2</th>\n",
              "      <td>198</td>\n",
              "      <td>182.0</td>\n",
              "      <td>4</td>\n",
              "      <td>4</td>\n",
              "      <td>1.0</td>\n",
              "      <td>1</td>\n",
              "      <td>0</td>\n",
              "      <td>1</td>\n",
              "      <td>5.9</td>\n",
              "      <td>0</td>\n",
              "      <td>20</td>\n",
              "      <td>0</td>\n",
              "      <td>2.1</td>\n",
              "      <td>154628</td>\n",
              "    </tr>\n",
              "    <tr>\n",
              "      <th>3</th>\n",
              "      <td>178</td>\n",
              "      <td>166.0</td>\n",
              "      <td>2</td>\n",
              "      <td>3</td>\n",
              "      <td>0.0</td>\n",
              "      <td>1</td>\n",
              "      <td>0</td>\n",
              "      <td>0</td>\n",
              "      <td>5.9</td>\n",
              "      <td>0</td>\n",
              "      <td>5</td>\n",
              "      <td>0</td>\n",
              "      <td>0.7</td>\n",
              "      <td>133099</td>\n",
              "    </tr>\n",
              "    <tr>\n",
              "      <th>4</th>\n",
              "      <td>183</td>\n",
              "      <td>165.0</td>\n",
              "      <td>3</td>\n",
              "      <td>1</td>\n",
              "      <td>1.0</td>\n",
              "      <td>1</td>\n",
              "      <td>0</td>\n",
              "      <td>0</td>\n",
              "      <td>3.8</td>\n",
              "      <td>1</td>\n",
              "      <td>8</td>\n",
              "      <td>0</td>\n",
              "      <td>0.7</td>\n",
              "      <td>158481</td>\n",
              "    </tr>\n",
              "  </tbody>\n",
              "</table>\n",
              "</div>\n",
              "      <button class=\"colab-df-convert\" onclick=\"convertToInteractive('df-917b7261-594f-4076-9bb3-10c90f137e2c')\"\n",
              "              title=\"Convert this dataframe to an interactive table.\"\n",
              "              style=\"display:none;\">\n",
              "        \n",
              "  <svg xmlns=\"http://www.w3.org/2000/svg\" height=\"24px\"viewBox=\"0 0 24 24\"\n",
              "       width=\"24px\">\n",
              "    <path d=\"M0 0h24v24H0V0z\" fill=\"none\"/>\n",
              "    <path d=\"M18.56 5.44l.94 2.06.94-2.06 2.06-.94-2.06-.94-.94-2.06-.94 2.06-2.06.94zm-11 1L8.5 8.5l.94-2.06 2.06-.94-2.06-.94L8.5 2.5l-.94 2.06-2.06.94zm10 10l.94 2.06.94-2.06 2.06-.94-2.06-.94-.94-2.06-.94 2.06-2.06.94z\"/><path d=\"M17.41 7.96l-1.37-1.37c-.4-.4-.92-.59-1.43-.59-.52 0-1.04.2-1.43.59L10.3 9.45l-7.72 7.72c-.78.78-.78 2.05 0 2.83L4 21.41c.39.39.9.59 1.41.59.51 0 1.02-.2 1.41-.59l7.78-7.78 2.81-2.81c.8-.78.8-2.07 0-2.86zM5.41 20L4 18.59l7.72-7.72 1.47 1.35L5.41 20z\"/>\n",
              "  </svg>\n",
              "      </button>\n",
              "      \n",
              "  <style>\n",
              "    .colab-df-container {\n",
              "      display:flex;\n",
              "      flex-wrap:wrap;\n",
              "      gap: 12px;\n",
              "    }\n",
              "\n",
              "    .colab-df-convert {\n",
              "      background-color: #E8F0FE;\n",
              "      border: none;\n",
              "      border-radius: 50%;\n",
              "      cursor: pointer;\n",
              "      display: none;\n",
              "      fill: #1967D2;\n",
              "      height: 32px;\n",
              "      padding: 0 0 0 0;\n",
              "      width: 32px;\n",
              "    }\n",
              "\n",
              "    .colab-df-convert:hover {\n",
              "      background-color: #E2EBFA;\n",
              "      box-shadow: 0px 1px 2px rgba(60, 64, 67, 0.3), 0px 1px 3px 1px rgba(60, 64, 67, 0.15);\n",
              "      fill: #174EA6;\n",
              "    }\n",
              "\n",
              "    [theme=dark] .colab-df-convert {\n",
              "      background-color: #3B4455;\n",
              "      fill: #D2E3FC;\n",
              "    }\n",
              "\n",
              "    [theme=dark] .colab-df-convert:hover {\n",
              "      background-color: #434B5C;\n",
              "      box-shadow: 0px 1px 3px 1px rgba(0, 0, 0, 0.15);\n",
              "      filter: drop-shadow(0px 1px 2px rgba(0, 0, 0, 0.3));\n",
              "      fill: #FFFFFF;\n",
              "    }\n",
              "  </style>\n",
              "\n",
              "      <script>\n",
              "        const buttonEl =\n",
              "          document.querySelector('#df-917b7261-594f-4076-9bb3-10c90f137e2c button.colab-df-convert');\n",
              "        buttonEl.style.display =\n",
              "          google.colab.kernel.accessAllowed ? 'block' : 'none';\n",
              "\n",
              "        async function convertToInteractive(key) {\n",
              "          const element = document.querySelector('#df-917b7261-594f-4076-9bb3-10c90f137e2c');\n",
              "          const dataTable =\n",
              "            await google.colab.kernel.invokeFunction('convertToInteractive',\n",
              "                                                     [key], {});\n",
              "          if (!dataTable) return;\n",
              "\n",
              "          const docLinkHtml = 'Like what you see? Visit the ' +\n",
              "            '<a target=\"_blank\" href=https://colab.research.google.com/notebooks/data_table.ipynb>data table notebook</a>'\n",
              "            + ' to learn more about interactive tables.';\n",
              "          element.innerHTML = '';\n",
              "          dataTable['output_type'] = 'display_data';\n",
              "          await google.colab.output.renderOutput(dataTable, element);\n",
              "          const docLink = document.createElement('div');\n",
              "          docLink.innerHTML = docLinkHtml;\n",
              "          element.appendChild(docLink);\n",
              "        }\n",
              "      </script>\n",
              "    </div>\n",
              "  </div>\n",
              "  "
            ]
          },
          "metadata": {},
          "execution_count": 5
        }
      ]
    },
    {
      "cell_type": "code",
      "source": [
        "data.shape"
      ],
      "metadata": {
        "id": "LypOx5Cis_-d",
        "colab": {
          "base_uri": "https://localhost:8080/"
        },
        "outputId": "4ccd2194-4a81-4598-c348-5bcc3be700c2"
      },
      "execution_count": 6,
      "outputs": [
        {
          "output_type": "execute_result",
          "data": {
            "text/plain": [
              "(4954, 14)"
            ]
          },
          "metadata": {},
          "execution_count": 6
        }
      ]
    },
    {
      "cell_type": "code",
      "source": [
        "data.dtypes"
      ],
      "metadata": {
        "id": "Ux7Z9qE0rEoQ",
        "colab": {
          "base_uri": "https://localhost:8080/"
        },
        "outputId": "f2bb99d1-3cf1-418c-e140-0200465d6018"
      },
      "execution_count": 7,
      "outputs": [
        {
          "output_type": "execute_result",
          "data": {
            "text/plain": [
              "land_size_sqm                   int64\n",
              "house_size_sqm                float64\n",
              "no_of_rooms                     int64\n",
              "no_of_bathrooms                 int64\n",
              "large_living_room             float64\n",
              "parking_space                   int64\n",
              "front_garden                    int64\n",
              "swimming_pool                   int64\n",
              "distance_to_school_km         float64\n",
              "wall_fence                      int64\n",
              "house_age_or_renovated          int64\n",
              "water_front                     int64\n",
              "distance_to_supermarket_km    float64\n",
              "property_value                  int64\n",
              "dtype: object"
            ]
          },
          "metadata": {},
          "execution_count": 7
        }
      ]
    },
    {
      "cell_type": "code",
      "source": [
        "data.tail()"
      ],
      "metadata": {
        "id": "Gow_KI9TmkgE",
        "colab": {
          "base_uri": "https://localhost:8080/",
          "height": 270
        },
        "outputId": "d2556e3e-3b6a-4e34-8a0d-3546a2d15898"
      },
      "execution_count": 8,
      "outputs": [
        {
          "output_type": "execute_result",
          "data": {
            "text/plain": [
              "      land_size_sqm  house_size_sqm  no_of_rooms  no_of_bathrooms  \\\n",
              "4949            297           261.0            4                4   \n",
              "4950            302           282.0            4                2   \n",
              "4951            153           147.0            3                4   \n",
              "4952            180           158.0            2                1   \n",
              "4953            695           619.0            8                6   \n",
              "\n",
              "      large_living_room  parking_space  front_garden  swimming_pool  \\\n",
              "4949                1.0              1             1              1   \n",
              "4950                1.0              1             1              1   \n",
              "4951                1.0              1             0              0   \n",
              "4952                0.0              1             0              1   \n",
              "4953                1.0              1             1              1   \n",
              "\n",
              "      distance_to_school_km  wall_fence  house_age_or_renovated  water_front  \\\n",
              "4949                    2.9           1                      20            0   \n",
              "4950                    3.8           1                      12            1   \n",
              "4951                    3.3           1                       7            0   \n",
              "4952                    2.2           0                       1            0   \n",
              "4953                    0.4           1                       5            0   \n",
              "\n",
              "      distance_to_supermarket_km  property_value  \n",
              "4949                         4.1          254547  \n",
              "4950                         4.8          299788  \n",
              "4951                         4.7          138088  \n",
              "4952                         3.4          151907  \n",
              "4953                         0.4          566249  "
            ],
            "text/html": [
              "\n",
              "  <div id=\"df-ecc2cdd9-306d-4b89-996d-bb71e91013f3\">\n",
              "    <div class=\"colab-df-container\">\n",
              "      <div>\n",
              "<style scoped>\n",
              "    .dataframe tbody tr th:only-of-type {\n",
              "        vertical-align: middle;\n",
              "    }\n",
              "\n",
              "    .dataframe tbody tr th {\n",
              "        vertical-align: top;\n",
              "    }\n",
              "\n",
              "    .dataframe thead th {\n",
              "        text-align: right;\n",
              "    }\n",
              "</style>\n",
              "<table border=\"1\" class=\"dataframe\">\n",
              "  <thead>\n",
              "    <tr style=\"text-align: right;\">\n",
              "      <th></th>\n",
              "      <th>land_size_sqm</th>\n",
              "      <th>house_size_sqm</th>\n",
              "      <th>no_of_rooms</th>\n",
              "      <th>no_of_bathrooms</th>\n",
              "      <th>large_living_room</th>\n",
              "      <th>parking_space</th>\n",
              "      <th>front_garden</th>\n",
              "      <th>swimming_pool</th>\n",
              "      <th>distance_to_school_km</th>\n",
              "      <th>wall_fence</th>\n",
              "      <th>house_age_or_renovated</th>\n",
              "      <th>water_front</th>\n",
              "      <th>distance_to_supermarket_km</th>\n",
              "      <th>property_value</th>\n",
              "    </tr>\n",
              "  </thead>\n",
              "  <tbody>\n",
              "    <tr>\n",
              "      <th>4949</th>\n",
              "      <td>297</td>\n",
              "      <td>261.0</td>\n",
              "      <td>4</td>\n",
              "      <td>4</td>\n",
              "      <td>1.0</td>\n",
              "      <td>1</td>\n",
              "      <td>1</td>\n",
              "      <td>1</td>\n",
              "      <td>2.9</td>\n",
              "      <td>1</td>\n",
              "      <td>20</td>\n",
              "      <td>0</td>\n",
              "      <td>4.1</td>\n",
              "      <td>254547</td>\n",
              "    </tr>\n",
              "    <tr>\n",
              "      <th>4950</th>\n",
              "      <td>302</td>\n",
              "      <td>282.0</td>\n",
              "      <td>4</td>\n",
              "      <td>2</td>\n",
              "      <td>1.0</td>\n",
              "      <td>1</td>\n",
              "      <td>1</td>\n",
              "      <td>1</td>\n",
              "      <td>3.8</td>\n",
              "      <td>1</td>\n",
              "      <td>12</td>\n",
              "      <td>1</td>\n",
              "      <td>4.8</td>\n",
              "      <td>299788</td>\n",
              "    </tr>\n",
              "    <tr>\n",
              "      <th>4951</th>\n",
              "      <td>153</td>\n",
              "      <td>147.0</td>\n",
              "      <td>3</td>\n",
              "      <td>4</td>\n",
              "      <td>1.0</td>\n",
              "      <td>1</td>\n",
              "      <td>0</td>\n",
              "      <td>0</td>\n",
              "      <td>3.3</td>\n",
              "      <td>1</td>\n",
              "      <td>7</td>\n",
              "      <td>0</td>\n",
              "      <td>4.7</td>\n",
              "      <td>138088</td>\n",
              "    </tr>\n",
              "    <tr>\n",
              "      <th>4952</th>\n",
              "      <td>180</td>\n",
              "      <td>158.0</td>\n",
              "      <td>2</td>\n",
              "      <td>1</td>\n",
              "      <td>0.0</td>\n",
              "      <td>1</td>\n",
              "      <td>0</td>\n",
              "      <td>1</td>\n",
              "      <td>2.2</td>\n",
              "      <td>0</td>\n",
              "      <td>1</td>\n",
              "      <td>0</td>\n",
              "      <td>3.4</td>\n",
              "      <td>151907</td>\n",
              "    </tr>\n",
              "    <tr>\n",
              "      <th>4953</th>\n",
              "      <td>695</td>\n",
              "      <td>619.0</td>\n",
              "      <td>8</td>\n",
              "      <td>6</td>\n",
              "      <td>1.0</td>\n",
              "      <td>1</td>\n",
              "      <td>1</td>\n",
              "      <td>1</td>\n",
              "      <td>0.4</td>\n",
              "      <td>1</td>\n",
              "      <td>5</td>\n",
              "      <td>0</td>\n",
              "      <td>0.4</td>\n",
              "      <td>566249</td>\n",
              "    </tr>\n",
              "  </tbody>\n",
              "</table>\n",
              "</div>\n",
              "      <button class=\"colab-df-convert\" onclick=\"convertToInteractive('df-ecc2cdd9-306d-4b89-996d-bb71e91013f3')\"\n",
              "              title=\"Convert this dataframe to an interactive table.\"\n",
              "              style=\"display:none;\">\n",
              "        \n",
              "  <svg xmlns=\"http://www.w3.org/2000/svg\" height=\"24px\"viewBox=\"0 0 24 24\"\n",
              "       width=\"24px\">\n",
              "    <path d=\"M0 0h24v24H0V0z\" fill=\"none\"/>\n",
              "    <path d=\"M18.56 5.44l.94 2.06.94-2.06 2.06-.94-2.06-.94-.94-2.06-.94 2.06-2.06.94zm-11 1L8.5 8.5l.94-2.06 2.06-.94-2.06-.94L8.5 2.5l-.94 2.06-2.06.94zm10 10l.94 2.06.94-2.06 2.06-.94-2.06-.94-.94-2.06-.94 2.06-2.06.94z\"/><path d=\"M17.41 7.96l-1.37-1.37c-.4-.4-.92-.59-1.43-.59-.52 0-1.04.2-1.43.59L10.3 9.45l-7.72 7.72c-.78.78-.78 2.05 0 2.83L4 21.41c.39.39.9.59 1.41.59.51 0 1.02-.2 1.41-.59l7.78-7.78 2.81-2.81c.8-.78.8-2.07 0-2.86zM5.41 20L4 18.59l7.72-7.72 1.47 1.35L5.41 20z\"/>\n",
              "  </svg>\n",
              "      </button>\n",
              "      \n",
              "  <style>\n",
              "    .colab-df-container {\n",
              "      display:flex;\n",
              "      flex-wrap:wrap;\n",
              "      gap: 12px;\n",
              "    }\n",
              "\n",
              "    .colab-df-convert {\n",
              "      background-color: #E8F0FE;\n",
              "      border: none;\n",
              "      border-radius: 50%;\n",
              "      cursor: pointer;\n",
              "      display: none;\n",
              "      fill: #1967D2;\n",
              "      height: 32px;\n",
              "      padding: 0 0 0 0;\n",
              "      width: 32px;\n",
              "    }\n",
              "\n",
              "    .colab-df-convert:hover {\n",
              "      background-color: #E2EBFA;\n",
              "      box-shadow: 0px 1px 2px rgba(60, 64, 67, 0.3), 0px 1px 3px 1px rgba(60, 64, 67, 0.15);\n",
              "      fill: #174EA6;\n",
              "    }\n",
              "\n",
              "    [theme=dark] .colab-df-convert {\n",
              "      background-color: #3B4455;\n",
              "      fill: #D2E3FC;\n",
              "    }\n",
              "\n",
              "    [theme=dark] .colab-df-convert:hover {\n",
              "      background-color: #434B5C;\n",
              "      box-shadow: 0px 1px 3px 1px rgba(0, 0, 0, 0.15);\n",
              "      filter: drop-shadow(0px 1px 2px rgba(0, 0, 0, 0.3));\n",
              "      fill: #FFFFFF;\n",
              "    }\n",
              "  </style>\n",
              "\n",
              "      <script>\n",
              "        const buttonEl =\n",
              "          document.querySelector('#df-ecc2cdd9-306d-4b89-996d-bb71e91013f3 button.colab-df-convert');\n",
              "        buttonEl.style.display =\n",
              "          google.colab.kernel.accessAllowed ? 'block' : 'none';\n",
              "\n",
              "        async function convertToInteractive(key) {\n",
              "          const element = document.querySelector('#df-ecc2cdd9-306d-4b89-996d-bb71e91013f3');\n",
              "          const dataTable =\n",
              "            await google.colab.kernel.invokeFunction('convertToInteractive',\n",
              "                                                     [key], {});\n",
              "          if (!dataTable) return;\n",
              "\n",
              "          const docLinkHtml = 'Like what you see? Visit the ' +\n",
              "            '<a target=\"_blank\" href=https://colab.research.google.com/notebooks/data_table.ipynb>data table notebook</a>'\n",
              "            + ' to learn more about interactive tables.';\n",
              "          element.innerHTML = '';\n",
              "          dataTable['output_type'] = 'display_data';\n",
              "          await google.colab.output.renderOutput(dataTable, element);\n",
              "          const docLink = document.createElement('div');\n",
              "          docLink.innerHTML = docLinkHtml;\n",
              "          element.appendChild(docLink);\n",
              "        }\n",
              "      </script>\n",
              "    </div>\n",
              "  </div>\n",
              "  "
            ]
          },
          "metadata": {},
          "execution_count": 8
        }
      ]
    },
    {
      "cell_type": "code",
      "source": [
        "data.isna().sum()"
      ],
      "metadata": {
        "id": "4wrjHwLFtICn",
        "outputId": "e0f2d13e-a5d1-4e72-b63f-ef03f3e53e96",
        "colab": {
          "base_uri": "https://localhost:8080/"
        }
      },
      "execution_count": 9,
      "outputs": [
        {
          "output_type": "execute_result",
          "data": {
            "text/plain": [
              "land_size_sqm                  0\n",
              "house_size_sqm                 1\n",
              "no_of_rooms                    0\n",
              "no_of_bathrooms                0\n",
              "large_living_room              2\n",
              "parking_space                  0\n",
              "front_garden                   0\n",
              "swimming_pool                  0\n",
              "distance_to_school_km         12\n",
              "wall_fence                     0\n",
              "house_age_or_renovated         0\n",
              "water_front                    0\n",
              "distance_to_supermarket_km    38\n",
              "property_value                 0\n",
              "dtype: int64"
            ]
          },
          "metadata": {},
          "execution_count": 9
        }
      ]
    },
    {
      "cell_type": "code",
      "source": [
        "data[\"distance_to_school_km\"] = data[\"distance_to_school_km\"].fillna(data[\"distance_to_school_km\"].mean())\n",
        "data[\"distance_to_supermarket_km\"] = data[\"distance_to_supermarket_km\"].fillna(data[\"distance_to_supermarket_km\"].mean())\n",
        "data[\"house_size_sqm\"] = data[\"house_size_sqm\"].fillna(data[\"house_size_sqm\"].mean())\n",
        "data[\"large_living_room\"] = data[\"large_living_room\"].fillna(data[\"large_living_room\"].mean())"
      ],
      "metadata": {
        "id": "zzEG6e7tPAxs"
      },
      "execution_count": 10,
      "outputs": []
    },
    {
      "cell_type": "code",
      "source": [
        "data.isna().sum()"
      ],
      "metadata": {
        "id": "QhqFVbSZs3Gi",
        "colab": {
          "base_uri": "https://localhost:8080/"
        },
        "outputId": "6e3c0d78-1db6-45bb-b6fa-4856ca6a33a0"
      },
      "execution_count": 11,
      "outputs": [
        {
          "output_type": "execute_result",
          "data": {
            "text/plain": [
              "land_size_sqm                 0\n",
              "house_size_sqm                0\n",
              "no_of_rooms                   0\n",
              "no_of_bathrooms               0\n",
              "large_living_room             0\n",
              "parking_space                 0\n",
              "front_garden                  0\n",
              "swimming_pool                 0\n",
              "distance_to_school_km         0\n",
              "wall_fence                    0\n",
              "house_age_or_renovated        0\n",
              "water_front                   0\n",
              "distance_to_supermarket_km    0\n",
              "property_value                0\n",
              "dtype: int64"
            ]
          },
          "metadata": {},
          "execution_count": 11
        }
      ]
    },
    {
      "cell_type": "code",
      "source": [
        "X=data.drop([\"property_value\"],axis=1)\n",
        "y=data[\"property_value\"]"
      ],
      "metadata": {
        "id": "TUaD9V66PA1N"
      },
      "execution_count": 12,
      "outputs": []
    },
    {
      "cell_type": "code",
      "source": [
        "# Define the input features and target variable\n",
        "X_train = data.drop([ \"property_value\"], axis=1)\n",
        "y_train = data[\"property_value\"]\n",
        "X_test  = data.drop([ \"property_value\"], axis=1)\n",
        "y_test  = data[\"property_value\"]"
      ],
      "metadata": {
        "id": "1Xk45jhNPeEt"
      },
      "execution_count": 16,
      "outputs": []
    },
    {
      "cell_type": "code",
      "source": [
        "data.columns"
      ],
      "metadata": {
        "id": "0HjBtrPHmkl3",
        "colab": {
          "base_uri": "https://localhost:8080/"
        },
        "outputId": "95fefae7-152a-4dc3-ccce-74cbf85cc90e"
      },
      "execution_count": 17,
      "outputs": [
        {
          "output_type": "execute_result",
          "data": {
            "text/plain": [
              "Index(['land_size_sqm', 'house_size_sqm', 'no_of_rooms', 'no_of_bathrooms',\n",
              "       'large_living_room', 'parking_space', 'front_garden', 'swimming_pool',\n",
              "       'distance_to_school_km', 'wall_fence', 'house_age_or_renovated',\n",
              "       'water_front', 'distance_to_supermarket_km', 'property_value'],\n",
              "      dtype='object')"
            ]
          },
          "metadata": {},
          "execution_count": 17
        }
      ]
    },
    {
      "cell_type": "code",
      "source": [
        "# Define a function to calculate the mean squared error\n",
        "def mean_squared_error(y_true, y_pred):\n",
        "    return np.mean((y_true - y_pred)**2)\n",
        "\n",
        "# Define a function to split the data based on a given feature and threshold value\n",
        "def split_data(X, y, feature, threshold):\n",
        "    left_mask = X[feature] <= threshold\n",
        "    right_mask = X[feature] > threshold\n",
        "    X_left, y_left = X.loc[left_mask], y.loc[left_mask]\n",
        "    X_right, y_right = X.loc[right_mask], y.loc[right_mask]\n",
        "    return X_left, y_left, X_right, y_right\n",
        "\n",
        "# Define a function to find the best split point for a given feature\n",
        "def find_best_split(X, y, feature):\n",
        "    # Sort the data by the feature\n",
        "    X_sorted = X.sort_values(feature)\n",
        "    y_sorted = y[X_sorted.index]\n",
        "    # Initialize the best split point and lowest mse\n",
        "    best_split = None\n",
        "    lowest_mse = float(\"inf\")\n",
        "    # Loop through each unique value of the feature\n",
        "    for threshold in X_sorted[feature].unique():\n",
        "        # Split the data at the current threshold\n",
        "        X_left, y_left, X_right, y_right = split_data(X_sorted, y_sorted, feature, threshold)\n",
        "        # Calculate the mse for the current split\n",
        "        mse = mean_squared_error(y_left, y_left.mean()) + mean_squared_error(y_right, y_right.mean())\n",
        "        # Update the best split and lowest mse if the current mse is lower\n",
        "        if mse < lowest_mse:\n",
        "            best_split = (feature, threshold)\n",
        "            lowest_mse = mse\n",
        "    return best_split, lowest_mse"
      ],
      "metadata": {
        "id": "EyGFl8o3PeHb"
      },
      "execution_count": 18,
      "outputs": []
    },
    {
      "cell_type": "code",
      "source": [
        "class Node:\n",
        "    def __init__(self, X, y, depth=0, max_depth=5, min_samples_split=2):\n",
        "        self.X = X\n",
        "        self.y = y\n",
        "        self.depth = depth\n",
        "        self.max_depth = max_depth\n",
        "        self.min_samples_split = min_samples_split\n",
        "        self.left = None\n",
        "        self.right = None\n",
        "        self.split_feature = None\n",
        "        self.split_threshold = None\n",
        "        self.prediction = y.mean()\n",
        "        # Stop splitting if the node reaches the maximum depth or minimum number of samples\n",
        "        if depth < max_depth and len(X) >= min_samples_split:\n",
        "            # Find the best split point among all features\n",
        "            best_split, lowest_mse = min([find_best_split(X, y, feature) for feature in X.columns], key=lambda x: x[1])\n",
        "            # Create left and right child nodes and continue splitting recursively\n",
        "            if best_split is not None:\n",
        "                self.split_feature, self.split_threshold = best_split\n",
        "                X_left, y_left, X_right, y_right = split_data(X, y, self.split_feature, self.split_threshold)\n",
        "                self.left = Node(X_left, y_left, depth+1, max_depth, min_samples_split)\n",
        "                self.right = Node(X_right, y_right, depth+1, max_depth, min_samples_split)\n",
        "                self.prediction = None\n",
        "\n",
        "    def predict_row(self, row):\n",
        "        # Recursively traverse the tree to find the prediction for a given row\n",
        "        if self.prediction is not None:\n",
        "            return self.prediction\n",
        "        elif row[self.split_feature] <= self.split_threshold:\n",
        "            return self.left.predict_row(row)\n",
        "        else:\n",
        "            return self.right.predict_row(row)\n",
        "\n",
        "    def predict(self, X):\n",
        "        # Make predictions for all rows in X\n",
        "        return np.array([self.predict_row(X.iloc[i]) for i in range(len(X))])\n",
        "\n",
        "# Train the decision tree on the training data\n",
        "tree = Node(X_train, y_train)\n",
        "\n",
        "# Make predictions on the testing data\n",
        "y_pred = tree.predict(X_test)\n",
        "\n",
        "# Calculate the mean squared error of the predictions\n",
        "mse = mean_squared_error(y_test, y_pred)\n",
        "print(\"Mean Squared Error:\", mse)"
      ],
      "metadata": {
        "colab": {
          "base_uri": "https://localhost:8080/"
        },
        "id": "Xr11pQZeRGuU",
        "outputId": "af8f64f3-35a5-4ffe-ac71-9cfb1bea5e01"
      },
      "execution_count": 23,
      "outputs": [
        {
          "output_type": "stream",
          "name": "stdout",
          "text": [
            "Mean Squared Error: 7050538107.769412\n"
          ]
        }
      ]
    },
    {
      "cell_type": "code",
      "source": [
        "y_pred"
      ],
      "metadata": {
        "id": "hIT8Pm_VSZ_f",
        "colab": {
          "base_uri": "https://localhost:8080/"
        },
        "outputId": "adab3979-bf53-45d7-f9cc-4c91dd47589a"
      },
      "execution_count": 25,
      "outputs": [
        {
          "output_type": "execute_result",
          "data": {
            "text/plain": [
              "array([223653.65542819, 223653.65542819, 223653.65542819, ...,\n",
              "       223653.65542819, 223653.65542819, 223653.65542819])"
            ]
          },
          "metadata": {},
          "execution_count": 25
        }
      ]
    },
    {
      "cell_type": "code",
      "source": [
        "pred_df = pd.DataFrame({'price':y_pred})"
      ],
      "metadata": {
        "id": "hKpi-AlxSgcL"
      },
      "execution_count": 26,
      "outputs": []
    },
    {
      "cell_type": "code",
      "source": [
        "pred_df.head()"
      ],
      "metadata": {
        "id": "wbl6tJGQSnkc",
        "colab": {
          "base_uri": "https://localhost:8080/",
          "height": 206
        },
        "outputId": "97a9ac77-037e-44cb-f2a4-dfc610e7db12"
      },
      "execution_count": 27,
      "outputs": [
        {
          "output_type": "execute_result",
          "data": {
            "text/plain": [
              "           price\n",
              "0  223653.655428\n",
              "1  223653.655428\n",
              "2  223653.655428\n",
              "3  223653.655428\n",
              "4  223653.655428"
            ],
            "text/html": [
              "\n",
              "  <div id=\"df-139dbfee-ffc7-4b40-9ebd-578d250911b5\">\n",
              "    <div class=\"colab-df-container\">\n",
              "      <div>\n",
              "<style scoped>\n",
              "    .dataframe tbody tr th:only-of-type {\n",
              "        vertical-align: middle;\n",
              "    }\n",
              "\n",
              "    .dataframe tbody tr th {\n",
              "        vertical-align: top;\n",
              "    }\n",
              "\n",
              "    .dataframe thead th {\n",
              "        text-align: right;\n",
              "    }\n",
              "</style>\n",
              "<table border=\"1\" class=\"dataframe\">\n",
              "  <thead>\n",
              "    <tr style=\"text-align: right;\">\n",
              "      <th></th>\n",
              "      <th>price</th>\n",
              "    </tr>\n",
              "  </thead>\n",
              "  <tbody>\n",
              "    <tr>\n",
              "      <th>0</th>\n",
              "      <td>223653.655428</td>\n",
              "    </tr>\n",
              "    <tr>\n",
              "      <th>1</th>\n",
              "      <td>223653.655428</td>\n",
              "    </tr>\n",
              "    <tr>\n",
              "      <th>2</th>\n",
              "      <td>223653.655428</td>\n",
              "    </tr>\n",
              "    <tr>\n",
              "      <th>3</th>\n",
              "      <td>223653.655428</td>\n",
              "    </tr>\n",
              "    <tr>\n",
              "      <th>4</th>\n",
              "      <td>223653.655428</td>\n",
              "    </tr>\n",
              "  </tbody>\n",
              "</table>\n",
              "</div>\n",
              "      <button class=\"colab-df-convert\" onclick=\"convertToInteractive('df-139dbfee-ffc7-4b40-9ebd-578d250911b5')\"\n",
              "              title=\"Convert this dataframe to an interactive table.\"\n",
              "              style=\"display:none;\">\n",
              "        \n",
              "  <svg xmlns=\"http://www.w3.org/2000/svg\" height=\"24px\"viewBox=\"0 0 24 24\"\n",
              "       width=\"24px\">\n",
              "    <path d=\"M0 0h24v24H0V0z\" fill=\"none\"/>\n",
              "    <path d=\"M18.56 5.44l.94 2.06.94-2.06 2.06-.94-2.06-.94-.94-2.06-.94 2.06-2.06.94zm-11 1L8.5 8.5l.94-2.06 2.06-.94-2.06-.94L8.5 2.5l-.94 2.06-2.06.94zm10 10l.94 2.06.94-2.06 2.06-.94-2.06-.94-.94-2.06-.94 2.06-2.06.94z\"/><path d=\"M17.41 7.96l-1.37-1.37c-.4-.4-.92-.59-1.43-.59-.52 0-1.04.2-1.43.59L10.3 9.45l-7.72 7.72c-.78.78-.78 2.05 0 2.83L4 21.41c.39.39.9.59 1.41.59.51 0 1.02-.2 1.41-.59l7.78-7.78 2.81-2.81c.8-.78.8-2.07 0-2.86zM5.41 20L4 18.59l7.72-7.72 1.47 1.35L5.41 20z\"/>\n",
              "  </svg>\n",
              "      </button>\n",
              "      \n",
              "  <style>\n",
              "    .colab-df-container {\n",
              "      display:flex;\n",
              "      flex-wrap:wrap;\n",
              "      gap: 12px;\n",
              "    }\n",
              "\n",
              "    .colab-df-convert {\n",
              "      background-color: #E8F0FE;\n",
              "      border: none;\n",
              "      border-radius: 50%;\n",
              "      cursor: pointer;\n",
              "      display: none;\n",
              "      fill: #1967D2;\n",
              "      height: 32px;\n",
              "      padding: 0 0 0 0;\n",
              "      width: 32px;\n",
              "    }\n",
              "\n",
              "    .colab-df-convert:hover {\n",
              "      background-color: #E2EBFA;\n",
              "      box-shadow: 0px 1px 2px rgba(60, 64, 67, 0.3), 0px 1px 3px 1px rgba(60, 64, 67, 0.15);\n",
              "      fill: #174EA6;\n",
              "    }\n",
              "\n",
              "    [theme=dark] .colab-df-convert {\n",
              "      background-color: #3B4455;\n",
              "      fill: #D2E3FC;\n",
              "    }\n",
              "\n",
              "    [theme=dark] .colab-df-convert:hover {\n",
              "      background-color: #434B5C;\n",
              "      box-shadow: 0px 1px 3px 1px rgba(0, 0, 0, 0.15);\n",
              "      filter: drop-shadow(0px 1px 2px rgba(0, 0, 0, 0.3));\n",
              "      fill: #FFFFFF;\n",
              "    }\n",
              "  </style>\n",
              "\n",
              "      <script>\n",
              "        const buttonEl =\n",
              "          document.querySelector('#df-139dbfee-ffc7-4b40-9ebd-578d250911b5 button.colab-df-convert');\n",
              "        buttonEl.style.display =\n",
              "          google.colab.kernel.accessAllowed ? 'block' : 'none';\n",
              "\n",
              "        async function convertToInteractive(key) {\n",
              "          const element = document.querySelector('#df-139dbfee-ffc7-4b40-9ebd-578d250911b5');\n",
              "          const dataTable =\n",
              "            await google.colab.kernel.invokeFunction('convertToInteractive',\n",
              "                                                     [key], {});\n",
              "          if (!dataTable) return;\n",
              "\n",
              "          const docLinkHtml = 'Like what you see? Visit the ' +\n",
              "            '<a target=\"_blank\" href=https://colab.research.google.com/notebooks/data_table.ipynb>data table notebook</a>'\n",
              "            + ' to learn more about interactive tables.';\n",
              "          element.innerHTML = '';\n",
              "          dataTable['output_type'] = 'display_data';\n",
              "          await google.colab.output.renderOutput(dataTable, element);\n",
              "          const docLink = document.createElement('div');\n",
              "          docLink.innerHTML = docLinkHtml;\n",
              "          element.appendChild(docLink);\n",
              "        }\n",
              "      </script>\n",
              "    </div>\n",
              "  </div>\n",
              "  "
            ]
          },
          "metadata": {},
          "execution_count": 27
        }
      ]
    },
    {
      "cell_type": "code",
      "source": [
        "def rmse(y_test, y_pred):\n",
        "    mse = np.mean((y_test - y_pred)**2)\n",
        "    rmse = np.sqrt(mse)\n",
        "    return rmse"
      ],
      "metadata": {
        "id": "Jn2ohZjRPeOs"
      },
      "execution_count": 28,
      "outputs": []
    },
    {
      "cell_type": "code",
      "source": [
        "# Make predictions on the testing data\n",
        "y_pred = tree.predict(X_test)\n",
        "\n",
        "# Calculate the root mean squared error\n",
        "rmse_value = rmse(y_test, y_pred)\n",
        "\n",
        "# Print the RMSE value\n",
        "print(\"RMSE:\", rmse_value)"
      ],
      "metadata": {
        "colab": {
          "base_uri": "https://localhost:8080/"
        },
        "id": "cS7SYf9UPeTK",
        "outputId": "4168a371-ecd3-437b-af7f-08928e37d395"
      },
      "execution_count": 29,
      "outputs": [
        {
          "output_type": "stream",
          "name": "stdout",
          "text": [
            "RMSE: 83967.48244272548\n"
          ]
        }
      ]
    },
    {
      "cell_type": "code",
      "source": [],
      "metadata": {
        "id": "0Xjcr3QJRPPO"
      },
      "execution_count": null,
      "outputs": []
    }
  ]
}